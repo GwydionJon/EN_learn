{
 "cells": [
  {
   "cell_type": "code",
   "execution_count": 1,
   "metadata": {},
   "outputs": [],
   "source": [
    "import numpy as np\n",
    "import matplotlib.pyplot as plt\n",
    "import pandas as pd\n",
    "from scipy.signal import find_peaks\n",
    "import glob\n"
   ]
  },
  {
   "cell_type": "code",
   "execution_count": 7,
   "metadata": {},
   "outputs": [],
   "source": [
    "#complete code with list\n",
    "df_test_list=[]\n",
    "#input files for all spectra (for testing just one file)\n",
    "#data_name_list=[\"Test1\",\"Test2\",\"Test3\"] #this would later be the file name\n",
    "#data_file_list=[\"spectrum.pl\",\"spectrum.pl\",\"spectrum.pl\"]\n",
    "data_file_list=glob.glob('./spectral_Data/spectras*')\n",
    "\n",
    "for data_file in data_file_list:\n",
    "    df = pd.read_csv(data_file,sep=\"   \",header =2,engine='python')\n",
    "    df=df.dropna(1) #remove all na entrys\n",
    "    df.rename(columns={'#': 'Energy',' Energy':'g1','Unnamed: 2':'g2','Unnamed: 3':'g3'}, \n",
    "              inplace=True) \n",
    "    #make new column for all maximum values\n",
    "    df['max']=df.iloc[find_peaks(df.g1.values,height=df.g1.max()*0.1)[0]   ]['g1'].dropna()\n",
    "    #append new Datafiles which have only the energy and the intensity\n",
    "    df_test_list.append(pd.DataFrame(zip(df['Energy'][df['max'].dropna().index],\n",
    "                                         df['max'].dropna()), \n",
    "                                         columns=[\"Energy\",\"Intensity\"]))\n",
    "\n",
    "#concat all these datafiles\n",
    "#for ease of use each file can be given a data name\n",
    "df_results = pd.concat(df_test_list, keys=data_name_list)\n"
   ]
  },
  {
   "cell_type": "code",
   "execution_count": null,
   "metadata": {},
   "outputs": [],
   "source": []
  }
 ],
 "metadata": {
  "kernelspec": {
   "display_name": "Python 3",
   "language": "python",
   "name": "python3"
  },
  "language_info": {
   "codemirror_mode": {
    "name": "ipython",
    "version": 3
   },
   "file_extension": ".py",
   "mimetype": "text/x-python",
   "name": "python",
   "nbconvert_exporter": "python",
   "pygments_lexer": "ipython3",
   "version": "3.8.3"
  }
 },
 "nbformat": 4,
 "nbformat_minor": 4
}
