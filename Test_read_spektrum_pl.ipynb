{
 "cells": [
  {
   "cell_type": "code",
   "execution_count": 105,
   "metadata": {},
   "outputs": [],
   "source": [
    "import numpy as np\n",
    "import matplotlib.pyplot as plt\n",
    "import pandas as pd\n",
    "from scipy.signal import argrelextrema\n",
    "from scipy.signal import find_peaks"
   ]
  },
  {
   "cell_type": "code",
   "execution_count": 176,
   "metadata": {},
   "outputs": [
    {
     "data": {
      "text/html": [
       "<div>\n",
       "<style scoped>\n",
       "    .dataframe tbody tr th:only-of-type {\n",
       "        vertical-align: middle;\n",
       "    }\n",
       "\n",
       "    .dataframe tbody tr th {\n",
       "        vertical-align: top;\n",
       "    }\n",
       "\n",
       "    .dataframe thead th {\n",
       "        text-align: right;\n",
       "    }\n",
       "</style>\n",
       "<table border=\"1\" class=\"dataframe\">\n",
       "  <thead>\n",
       "    <tr style=\"text-align: right;\">\n",
       "      <th></th>\n",
       "      <th>Energy</th>\n",
       "      <th>g1</th>\n",
       "      <th>g2</th>\n",
       "      <th>g3</th>\n",
       "    </tr>\n",
       "  </thead>\n",
       "  <tbody>\n",
       "    <tr>\n",
       "      <th>0</th>\n",
       "      <td>-1.000</td>\n",
       "      <td>0.110920</td>\n",
       "      <td>0.110673</td>\n",
       "      <td>0.110679</td>\n",
       "    </tr>\n",
       "    <tr>\n",
       "      <th>1</th>\n",
       "      <td>-0.998</td>\n",
       "      <td>0.111339</td>\n",
       "      <td>0.111022</td>\n",
       "      <td>0.111028</td>\n",
       "    </tr>\n",
       "    <tr>\n",
       "      <th>2</th>\n",
       "      <td>-0.996</td>\n",
       "      <td>0.111596</td>\n",
       "      <td>0.111374</td>\n",
       "      <td>0.111381</td>\n",
       "    </tr>\n",
       "    <tr>\n",
       "      <th>3</th>\n",
       "      <td>-0.994</td>\n",
       "      <td>0.111739</td>\n",
       "      <td>0.111728</td>\n",
       "      <td>0.111737</td>\n",
       "    </tr>\n",
       "    <tr>\n",
       "      <th>4</th>\n",
       "      <td>-0.992</td>\n",
       "      <td>0.111876</td>\n",
       "      <td>0.112087</td>\n",
       "      <td>0.112095</td>\n",
       "    </tr>\n",
       "  </tbody>\n",
       "</table>\n",
       "</div>"
      ],
      "text/plain": [
       "   Energy        g1        g2        g3\n",
       "0  -1.000  0.110920  0.110673  0.110679\n",
       "1  -0.998  0.111339  0.111022  0.111028\n",
       "2  -0.996  0.111596  0.111374  0.111381\n",
       "3  -0.994  0.111739  0.111728  0.111737\n",
       "4  -0.992  0.111876  0.112087  0.112095"
      ]
     },
     "execution_count": 176,
     "metadata": {},
     "output_type": "execute_result"
    }
   ],
   "source": [
    "\n",
    "\n",
    "\n",
    "#Prepare the data of a single spectrum\n",
    "data_file=\"spectrum.pl\"\n",
    "df = pd.read_csv(data_file,sep=\"   \",header =2,engine='python')\n",
    "df=df.dropna(1)\n",
    "df.rename(columns={'#': 'Energy',' Energy':'g1','Unnamed: 2':'g2','Unnamed: 3':'g3'}, inplace=True)\n",
    "\n",
    "df.head()"
   ]
  },
  {
   "cell_type": "code",
   "execution_count": 203,
   "metadata": {},
   "outputs": [
    {
     "name": "stdout",
     "output_type": "stream",
     "text": [
      "Minimal height 6.94745478\n",
      "peaks index: [625 693 759 823]\n",
      "peaks intensity [42.0610207 69.4745478 58.9350823 33.8484614]\n",
      "peaks Energys [0.25  0.386 0.518 0.646]\n"
     ]
    },
    {
     "data": {
      "text/plain": [
       "[<matplotlib.lines.Line2D at 0x7f7997f23e20>]"
      ]
     },
     "execution_count": 203,
     "metadata": {},
     "output_type": "execute_result"
    },
    {
     "data": {
      "image/png": "[encoded data removed]",
      "text/plain": [
       "<Figure size 432x288 with 1 Axes>"
      ]
     },
     "metadata": {
      "needs_background": "light"
     },
     "output_type": "display_data"
    }
   ],
   "source": [
    "#df['max']=df.iloc[argrelextrema(df.g1.values, np.greater_equal, order=5)[0]]['g1']\n",
    "\n",
    "#finds all peaks which are higher than 10% of the highest peak\n",
    "df['max']=df.iloc[find_peaks(df.g1.values,height=df.g1.max()*0.1)[0]   ]['g1'].dropna()\n",
    "\n",
    "print('Minimal height', df.g1.max()*0.1)\n",
    "print('peaks index:',find_peaks(df.g1.values,height=df.g1.max()*0.1)[0])\n",
    "print('peaks intensity',df['max'].dropna().to_numpy())\n",
    "print('peaks Energys', df['Energy'][df['max'].dropna().index].to_numpy())\n",
    "test_array_energys=df['Energy'][df['max'].dropna().index].to_numpy()\n",
    "\n",
    "\n",
    "plt.scatter(df.Energy, df['max'], c='g')\n",
    "plt.plot(df.Energy, df['g1'])\n"
   ]
  },
  {
   "cell_type": "code",
   "execution_count": null,
   "metadata": {},
   "outputs": [],
   "source": []
  },
  {
   "cell_type": "code",
   "execution_count": 224,
   "metadata": {},
   "outputs": [],
   "source": [
    "\n",
    "df_test=pd.DataFrame(zip(df['Energy'][df['max'].dropna().index],df['max'].dropna()), \n",
    "                     columns=[\"Energy\",\"Intensity\"])\n",
    "df_test_array=[df_test,df_test]"
   ]
  },
  {
   "cell_type": "code",
   "execution_count": 237,
   "metadata": {},
   "outputs": [
    {
     "data": {
      "text/html": [
       "<div>\n",
       "<style scoped>\n",
       "    .dataframe tbody tr th:only-of-type {\n",
       "        vertical-align: middle;\n",
       "    }\n",
       "\n",
       "    .dataframe tbody tr th {\n",
       "        vertical-align: top;\n",
       "    }\n",
       "\n",
       "    .dataframe thead th {\n",
       "        text-align: right;\n",
       "    }\n",
       "</style>\n",
       "<table border=\"1\" class=\"dataframe\">\n",
       "  <thead>\n",
       "    <tr style=\"text-align: right;\">\n",
       "      <th></th>\n",
       "      <th></th>\n",
       "      <th>Energy</th>\n",
       "      <th>Intensity</th>\n",
       "    </tr>\n",
       "  </thead>\n",
       "  <tbody>\n",
       "    <tr>\n",
       "      <th rowspan=\"4\" valign=\"top\">file 1</th>\n",
       "      <th>0</th>\n",
       "      <td>0.250</td>\n",
       "      <td>42.061021</td>\n",
       "    </tr>\n",
       "    <tr>\n",
       "      <th>1</th>\n",
       "      <td>0.386</td>\n",
       "      <td>69.474548</td>\n",
       "    </tr>\n",
       "    <tr>\n",
       "      <th>2</th>\n",
       "      <td>0.518</td>\n",
       "      <td>58.935082</td>\n",
       "    </tr>\n",
       "    <tr>\n",
       "      <th>3</th>\n",
       "      <td>0.646</td>\n",
       "      <td>33.848461</td>\n",
       "    </tr>\n",
       "    <tr>\n",
       "      <th rowspan=\"4\" valign=\"top\">file 2</th>\n",
       "      <th>0</th>\n",
       "      <td>0.250</td>\n",
       "      <td>42.061021</td>\n",
       "    </tr>\n",
       "    <tr>\n",
       "      <th>1</th>\n",
       "      <td>0.386</td>\n",
       "      <td>69.474548</td>\n",
       "    </tr>\n",
       "    <tr>\n",
       "      <th>2</th>\n",
       "      <td>0.518</td>\n",
       "      <td>58.935082</td>\n",
       "    </tr>\n",
       "    <tr>\n",
       "      <th>3</th>\n",
       "      <td>0.646</td>\n",
       "      <td>33.848461</td>\n",
       "    </tr>\n",
       "  </tbody>\n",
       "</table>\n",
       "</div>"
      ],
      "text/plain": [
       "          Energy  Intensity\n",
       "file 1 0   0.250  42.061021\n",
       "       1   0.386  69.474548\n",
       "       2   0.518  58.935082\n",
       "       3   0.646  33.848461\n",
       "file 2 0   0.250  42.061021\n",
       "       1   0.386  69.474548\n",
       "       2   0.518  58.935082\n",
       "       3   0.646  33.848461"
      ]
     },
     "execution_count": 237,
     "metadata": {},
     "output_type": "execute_result"
    }
   ],
   "source": [
    "result = pd.concat(df_test_array, keys=['file 1', 'file 2'])\n",
    "result\n",
    "\n",
    "\n",
    "#figure out how to add more to this"
   ]
  },
  {
   "cell_type": "code",
   "execution_count": 243,
   "metadata": {},
   "outputs": [
    {
     "data": {
      "text/html": [
       "<div>\n",
       "<style scoped>\n",
       "    .dataframe tbody tr th:only-of-type {\n",
       "        vertical-align: middle;\n",
       "    }\n",
       "\n",
       "    .dataframe tbody tr th {\n",
       "        vertical-align: top;\n",
       "    }\n",
       "\n",
       "    .dataframe thead th {\n",
       "        text-align: right;\n",
       "    }\n",
       "</style>\n",
       "<table border=\"1\" class=\"dataframe\">\n",
       "  <thead>\n",
       "    <tr style=\"text-align: right;\">\n",
       "      <th></th>\n",
       "      <th></th>\n",
       "    </tr>\n",
       "  </thead>\n",
       "  <tbody>\n",
       "    <tr>\n",
       "      <th rowspan=\"4\" valign=\"top\">Test1</th>\n",
       "      <th>0</th>\n",
       "    </tr>\n",
       "    <tr>\n",
       "      <th>1</th>\n",
       "    </tr>\n",
       "    <tr>\n",
       "      <th>2</th>\n",
       "    </tr>\n",
       "    <tr>\n",
       "      <th>3</th>\n",
       "    </tr>\n",
       "    <tr>\n",
       "      <th rowspan=\"4\" valign=\"top\">Test2</th>\n",
       "      <th>0</th>\n",
       "    </tr>\n",
       "    <tr>\n",
       "      <th>1</th>\n",
       "    </tr>\n",
       "    <tr>\n",
       "      <th>2</th>\n",
       "    </tr>\n",
       "    <tr>\n",
       "      <th>3</th>\n",
       "    </tr>\n",
       "    <tr>\n",
       "      <th rowspan=\"4\" valign=\"top\">Test3</th>\n",
       "      <th>0</th>\n",
       "    </tr>\n",
       "    <tr>\n",
       "      <th>1</th>\n",
       "    </tr>\n",
       "    <tr>\n",
       "      <th>2</th>\n",
       "    </tr>\n",
       "    <tr>\n",
       "      <th>3</th>\n",
       "    </tr>\n",
       "  </tbody>\n",
       "</table>\n",
       "</div>"
      ],
      "text/plain": [
       "Empty DataFrame\n",
       "Columns: []\n",
       "Index: [(Test1, 0), (Test1, 1), (Test1, 2), (Test1, 3), (Test2, 0), (Test2, 1), (Test2, 2), (Test2, 3), (Test3, 0), (Test3, 1), (Test3, 2), (Test3, 3)]"
      ]
     },
     "execution_count": 243,
     "metadata": {},
     "output_type": "execute_result"
    }
   ],
   "source": [
    "#complete code with list\n",
    "df_test_list=[]\n",
    "data_file_list=[\"spectrum.pl\",\"spectrum.pl\",\"spectrum.pl\"]\n",
    "for data_file in data_file_list:\n",
    "    df = pd.read_csv(data_file,sep=\"   \",header =2,engine='python')\n",
    "    df=df.dropna(1)\n",
    "    df.rename(columns={'#': 'Energy',' Energy':'g1','Unnamed: 2':'g2','Unnamed: 3':'g3'}, \n",
    "              inplace=True)\n",
    "    df['max']=df.iloc[find_peaks(df.g1.values,height=df.g1.max()*0.1)[0]   ]['g1'].dropna()\n",
    "\n",
    "    df_test_list.append(pd.DataFrame(zip(df['Energy'][df['max'].dropna().index],\n",
    "                                         df['max'].dropna()), \n",
    "                                         columns=[\"Energy\",\"Intensity\"]))\n",
    "\n",
    "    \n",
    "result = pd.concat(df_test_list, keys=[\"Test1\",\"Test2\",\"Test3\"])\n"
   ]
  },
  {
   "cell_type": "code",
   "execution_count": null,
   "metadata": {},
   "outputs": [],
   "source": []
  },
  {
   "cell_type": "code",
   "execution_count": 13,
   "metadata": {},
   "outputs": [
    {
     "name": "stdout",
     "output_type": "stream",
     "text": [
      "729\n"
     ]
    }
   ],
   "source": [
    "import itertools as it\n",
    "import numpy as np\n",
    "#a=np.arange(-0.5,0.5,0.1)\n",
    "a=[-0.5,0,0.5]\n",
    "\n",
    "final=np.asarray(list((it.product(a,a,a,a,a,a))))\n",
    "print(len(final))"
   ]
  },
  {
   "cell_type": "code",
   "execution_count": 52,
   "metadata": {},
   "outputs": [
    {
     "name": "stdout",
     "output_type": "stream",
     "text": [
      "[-0.5 -0.5 -0.5 -0.5 -0.5 -0.5]\n",
      "[-0.5 -0.5 -0.5 -0.5 -0.5  0. ]\n",
      "[-0.5 -0.5 -0.5 -0.5 -0.5  0.5]\n",
      "[-0.5 -0.5 -0.5 -0.5  0.  -0.5]\n",
      "[-0.5 -0.5 -0.5 -0.5  0.   0. ]\n"
     ]
    }
   ],
   "source": [
    "for i in range(5):\n",
    "    print(final[i])"
   ]
  },
  {
   "cell_type": "code",
   "execution_count": 53,
   "metadata": {},
   "outputs": [],
   "source": [
    "inputfile = \"input/submit.sh\"\n",
    "for i in range(5):\n",
    "    outname=\"input/test/submit\"+str(i)+\".sh\"\n",
    "    with open(outname,'w') as new_file:\n",
    "        with open(inputfile, 'r') as old_file:\n",
    "            line = old_file.read()\n",
    "            new_file.write(line.replace(\"runxxx\", \"run\"+str(i)).replace(\"xyz\", \"-mnd -D {name} -p k6a1 {} -p k6a2 {} -p k11 {} -p k12 {} -p k9a1 {} -p k9a2 {}\".format(name=\"run\"+str(i),*final[i])))"
   ]
  },
  {
   "cell_type": "code",
   "execution_count": null,
   "metadata": {},
   "outputs": [],
   "source": []
  },
  {
   "cell_type": "code",
   "execution_count": null,
   "metadata": {},
   "outputs": [],
   "source": []
  }
 ],
 "metadata": {
  "kernelspec": {
   "display_name": "Python 3",
   "language": "python",
   "name": "python3"
  },
  "language_info": {
   "codemirror_mode": {
    "name": "ipython",
    "version": 3
   },
   "file_extension": ".py",
   "mimetype": "text/x-python",
   "name": "python",
   "nbconvert_exporter": "python",
   "pygments_lexer": "ipython3",
   "version": "3.8.3"
  }
 },
 "nbformat": 4,
 "nbformat_minor": 4
}
