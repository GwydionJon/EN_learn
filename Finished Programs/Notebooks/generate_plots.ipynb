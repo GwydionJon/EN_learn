{
 "cells": [
  {
   "cell_type": "code",
   "execution_count": 1,
   "metadata": {},
   "outputs": [
    {
     "name": "stderr",
     "output_type": "stream",
     "text": [
      "<ipython-input-1-7c1daeedadd2>:5: DeprecationWarning: `import kerastuner` is deprecated, please use `import keras_tuner`.\n",
      "  import kerastuner as kt\n"
     ]
    }
   ],
   "source": [
    "import pandas as pd\n",
    "import numpy as np\n",
    "import tensorflow as tf\n",
    "import matplotlib.pyplot as plt\n",
    "import kerastuner as kt\n",
    "from sklearn.model_selection import train_test_split\n",
    "from scipy.stats import norm\n",
    "\n",
    "\n",
    "def plot_curve(epochs, hist, list_of_metrics, name, title, label_list, savename=None):\n",
    "    \"\"\"Plot a curve of one or more classification metrics vs. epoch.\"\"\"\n",
    "    plt.figure(figsize=(8,5))\n",
    "    mf = 18\n",
    "\n",
    "    plt.title(title)\n",
    "    plt.xlabel(\"Epoch \"+name, fontsize=mf)\n",
    "    plt.ylabel(\"mean absolute error\", fontsize=mf)\n",
    "\n",
    "\n",
    "    for (m, label) in zip(list_of_metrics, label_list):\n",
    "        x = hist[m]\n",
    "        plt.plot(epochs[1:], x[1:], label=label)\n",
    "    plt.legend(fontsize=mf)\n",
    "    if savename is not None:\n",
    "        plt.savefig(f\"plots/{savename}.eps\", format=\"eps\")\n",
    "\n",
    "\n",
    "# for activation functions check https://keras.io/api/layers/activations/\n",
    "\n",
    "\n",
    "# returns dataframe\n",
    "def test_model(model, dataset, label_name, savename = None):\n",
    "    features = {name: np.array(value) for name, value in dataset.items()}\n",
    "    features.pop(label_name)\n",
    "    label = dataset[label_name].to_numpy()\n",
    "    evaluation = model.evaluate(x=features, y=label, batch_size=50, verbose=0)\n",
    "    print(\"evaluation\", evaluation)\n",
    "    predicted = model.predict(features)\n",
    "\n",
    "    df_test = pd.DataFrame(label, columns=[label_name])\n",
    "\n",
    "    df_predict = pd.DataFrame(predicted, columns=[label_name+\"_pred\"])\n",
    "    if savename is not None:\n",
    "        savename=savename.replace(\" \", \"_\")\n",
    "\n",
    "        pd.concat([df_test, df_predict], axis=1).to_csv(\"errors/\"+savename+\".csv\")\n",
    "\n",
    "    return pd.concat([df_test, df_predict], axis=1)\n",
    "\n",
    "\n",
    "def histogramm(testing_df, name, max_range, bins_val, y_max=0, savename=None):\n",
    "    df_columns = testing_df.columns\n",
    "    data = testing_df[df_columns[0]]-testing_df[df_columns[1]]\n",
    "    mu, std = norm.fit(data)\n",
    "\n",
    "\n",
    "    plt.figure(figsize=(8,5))\n",
    "    mf = 18\n",
    "    plt.hist(data, bins=bins_val)\n",
    "    if max_range is not None:\n",
    "        plt.xlim(-max_range, max_range)\n",
    "    if(y_max != 0):\n",
    "        plt.ylim(0, y_max)\n",
    "    mu, std = norm.fit(data)\n",
    "\n",
    "    plt.xlabel(\"Difference\", fontsize=mf)\n",
    "    plt.ylabel(\"Occurence\", fontsize=mf)\n",
    "    plt.title(name+\"  \\t mean = %.4f,  std = %.4f\" % (mu, std),fontsize=mf)\n",
    "    if savename is not None:\n",
    "        savename=savename.replace(\" \", \"_\")\n",
    "        plt.savefig(\"plots/hist/\"+savename+\".eps\", format=\"eps\")\n",
    "    plt.show()\n"
   ]
  },
  {
   "cell_type": "code",
   "execution_count": 2,
   "metadata": {},
   "outputs": [],
   "source": [
    "def generate_results(df, features, label, model_dir, model_name, max_range, num_bins, save_name):\n",
    "    \n",
    "    \n",
    "    all_used_columns = features[:]\n",
    "    all_used_columns.append(label)\n",
    "    df__train, df_test = train_test_split(\n",
    "        df[all_used_columns], test_size=0.20, random_state=42)\n",
    "    # feature_columns_A = []\n",
    "\n",
    "    my_model = tf.keras.models.load_model(model_dir)\n",
    "    print(my_model.summary())\n",
    "    error = test_model(my_model, df_test, label, savename=save_name)\n",
    "\n",
    "   # print(error.head(50))  # change to save file\n",
    "    histogramm(error, model_name, max_range, num_bins,savename=save_name)  # add save option\n"
   ]
  },
  {
   "cell_type": "code",
   "execution_count": 3,
   "metadata": {},
   "outputs": [
    {
     "name": "stdout",
     "output_type": "stream",
     "text": [
      "Model: \"sequential\"\n",
      "_________________________________________________________________\n",
      "Layer (type)                 Output Shape              Param #   \n",
      "=================================================================\n",
      "dense (Dense)                (None, 40)                80        \n",
      "_________________________________________________________________\n",
      "dense_1 (Dense)              (None, 40)                1640      \n",
      "_________________________________________________________________\n",
      "dense_2 (Dense)              (None, 10)                410       \n",
      "_________________________________________________________________\n",
      "Output (Dense)               (None, 1)                 11        \n",
      "=================================================================\n",
      "Total params: 2,141\n",
      "Trainable params: 2,141\n",
      "Non-trainable params: 0\n",
      "_________________________________________________________________\n",
      "None\n",
      "WARNING:tensorflow:Layers in a Sequential model should only have a single input tensor, but we receive a <class 'dict'> input: {'main_maximum': <tf.Tensor 'ExpandDims:0' shape=(None, 1) dtype=float32>}\n",
      "Consider rewriting this model with the Functional API.\n",
      "evaluation [0.0033441421110183, 0.0033441421110183]\n",
      "WARNING:tensorflow:Layers in a Sequential model should only have a single input tensor, but we receive a <class 'dict'> input: {'main_maximum': <tf.Tensor 'ExpandDims:0' shape=(None, 1) dtype=float32>}\n",
      "Consider rewriting this model with the Functional API.\n"
     ]
    },
    {
     "data": {
      "image/png": "[encoded data removed]",
      "text/plain": [
       "<Figure size 576x360 with 1 Axes>"
      ]
     },
     "metadata": {
      "needs_background": "light"
     },
     "output_type": "display_data"
    }
   ],
   "source": [
    "# lambda from main maximum\n",
    "generate_results(\n",
    "    # load and split Dataset\n",
    "    df=pd.read_csv(\"../../generated_Data/lambda_100_steps.csv\"),\n",
    "\n",
    "    # configure labels and features\n",
    "    features=[\"main_maximum\"],\n",
    "    label=\"lambda\",\n",
    "\n",
    "    # setup model or load model from file\n",
    "    model_dir=\"../Models/lambda_100_main_max\",\n",
    "    model_name=\"$\\lambda_{max}$ testing\",\n",
    "    save_name = \"lambda_max_test\",\n",
    "    # histogram options\n",
    "    max_range=0.05,\n",
    "    num_bins=30,\n",
    "\n",
    ")\n"
   ]
  },
  {
   "cell_type": "code",
   "execution_count": 4,
   "metadata": {},
   "outputs": [
    {
     "name": "stdout",
     "output_type": "stream",
     "text": [
      "Model: \"sequential\"\n",
      "_________________________________________________________________\n",
      "Layer (type)                 Output Shape              Param #   \n",
      "=================================================================\n",
      "dense (Dense)                (None, 40)                80        \n",
      "_________________________________________________________________\n",
      "dense_1 (Dense)              (None, 40)                1640      \n",
      "_________________________________________________________________\n",
      "dense_2 (Dense)              (None, 10)                410       \n",
      "_________________________________________________________________\n",
      "Output (Dense)               (None, 1)                 11        \n",
      "=================================================================\n",
      "Total params: 2,141\n",
      "Trainable params: 2,141\n",
      "Non-trainable params: 0\n",
      "_________________________________________________________________\n",
      "None\n",
      "WARNING:tensorflow:Layers in a Sequential model should only have a single input tensor, but we receive a <class 'dict'> input: {'main_maximum': <tf.Tensor 'ExpandDims:0' shape=(None, 1) dtype=float32>}\n",
      "Consider rewriting this model with the Functional API.\n",
      "evaluation [0.19770681858062744, 0.19770681858062744]\n",
      "WARNING:tensorflow:Layers in a Sequential model should only have a single input tensor, but we receive a <class 'dict'> input: {'main_maximum': <tf.Tensor 'ExpandDims:0' shape=(None, 1) dtype=float32>}\n",
      "Consider rewriting this model with the Functional API.\n"
     ]
    },
    {
     "data": {
      "image/png": "[encoded data removed]",
      "text/plain": [
       "<Figure size 576x360 with 1 Axes>"
      ]
     },
     "metadata": {
      "needs_background": "light"
     },
     "output_type": "display_data"
    }
   ],
   "source": [
    "generate_results(\n",
    "    # load and split Dataset\n",
    "    df=pd.read_csv(\"../../generated_Data/all_param_4_values_with_overlap.csv\"),\n",
    "\n",
    "    # configure labels and features\n",
    "    features=[\"main_maximum\"],\n",
    "    label=\"lambda\",\n",
    "\n",
    "    # setup model or load model from file\n",
    "    model_dir=\"../Models/lambda_100_main_max\",\n",
    "    model_name=\"$\\lambda_{max}$ validation\",\n",
    "    save_name = \"lambda_max_val\",\n",
    "    # histogram options\n",
    "    max_range=0.5,\n",
    "    num_bins=30,\n",
    "\n",
    ")"
   ]
  },
  {
   "cell_type": "code",
   "execution_count": 5,
   "metadata": {},
   "outputs": [
    {
     "name": "stdout",
     "output_type": "stream",
     "text": [
      "Model: \"sequential\"\n",
      "_________________________________________________________________\n",
      "Layer (type)                 Output Shape              Param #   \n",
      "=================================================================\n",
      "dense (Dense)                (None, 5)                 10        \n",
      "_________________________________________________________________\n",
      "dense_1 (Dense)              (None, 35)                210       \n",
      "_________________________________________________________________\n",
      "dense_2 (Dense)              (None, 30)                1080      \n",
      "_________________________________________________________________\n",
      "dense_3 (Dense)              (None, 50)                1550      \n",
      "_________________________________________________________________\n",
      "dense_4 (Dense)              (None, 25)                1275      \n",
      "_________________________________________________________________\n",
      "dense_5 (Dense)              (None, 30)                780       \n",
      "_________________________________________________________________\n",
      "dense_6 (Dense)              (None, 25)                775       \n",
      "_________________________________________________________________\n",
      "dense_7 (Dense)              (None, 10)                260       \n",
      "_________________________________________________________________\n",
      "dense_8 (Dense)              (None, 5)                 55        \n",
      "_________________________________________________________________\n",
      "Output (Dense)               (None, 1)                 6         \n",
      "=================================================================\n",
      "Total params: 6,001\n",
      "Trainable params: 6,001\n",
      "Non-trainable params: 0\n",
      "_________________________________________________________________\n",
      "None\n",
      "WARNING:tensorflow:Layers in a Sequential model should only have a single input tensor, but we receive a <class 'dict'> input: {'no_of_max': <tf.Tensor 'ExpandDims:0' shape=(None, 1) dtype=int64>}\n",
      "Consider rewriting this model with the Functional API.\n",
      "evaluation [0.05522201955318451, 0.05522201955318451]\n",
      "WARNING:tensorflow:Layers in a Sequential model should only have a single input tensor, but we receive a <class 'dict'> input: {'no_of_max': <tf.Tensor 'ExpandDims:0' shape=(None, 1) dtype=int64>}\n",
      "Consider rewriting this model with the Functional API.\n"
     ]
    },
    {
     "data": {
      "image/png": "[encoded data removed]",
      "text/plain": [
       "<Figure size 576x360 with 1 Axes>"
      ]
     },
     "metadata": {
      "needs_background": "light"
     },
     "output_type": "display_data"
    }
   ],
   "source": [
    "# lambda from main maximum\n",
    "generate_results(\n",
    "    # load and split Dataset\n",
    "    df=pd.read_csv(\"../../generated_Data/delta_100_steps.csv\"),\n",
    "\n",
    "    # configure labels and features\n",
    "    features=[\"no_of_max\"],\n",
    "    label=\"delta\",\n",
    "\n",
    "    # setup model or load model from file\n",
    "    model_dir=\"../Models/delta_100_num_max\",\n",
    "    model_name=\"$\\Delta_{NumMax}$\",\n",
    "    save_name = \"Delta_num_max_test\",\n",
    "    # histogram options\n",
    "    max_range=0.15,\n",
    "    num_bins=50,\n",
    "\n",
    ")"
   ]
  },
  {
   "cell_type": "code",
   "execution_count": 6,
   "metadata": {},
   "outputs": [
    {
     "name": "stdout",
     "output_type": "stream",
     "text": [
      "Model: \"sequential\"\n",
      "_________________________________________________________________\n",
      "Layer (type)                 Output Shape              Param #   \n",
      "=================================================================\n",
      "dense (Dense)                (None, 5)                 10        \n",
      "_________________________________________________________________\n",
      "dense_1 (Dense)              (None, 35)                210       \n",
      "_________________________________________________________________\n",
      "dense_2 (Dense)              (None, 30)                1080      \n",
      "_________________________________________________________________\n",
      "dense_3 (Dense)              (None, 50)                1550      \n",
      "_________________________________________________________________\n",
      "dense_4 (Dense)              (None, 25)                1275      \n",
      "_________________________________________________________________\n",
      "dense_5 (Dense)              (None, 30)                780       \n",
      "_________________________________________________________________\n",
      "dense_6 (Dense)              (None, 25)                775       \n",
      "_________________________________________________________________\n",
      "dense_7 (Dense)              (None, 10)                260       \n",
      "_________________________________________________________________\n",
      "dense_8 (Dense)              (None, 5)                 55        \n",
      "_________________________________________________________________\n",
      "Output (Dense)               (None, 1)                 6         \n",
      "=================================================================\n",
      "Total params: 6,001\n",
      "Trainable params: 6,001\n",
      "Non-trainable params: 0\n",
      "_________________________________________________________________\n",
      "None\n",
      "WARNING:tensorflow:Layers in a Sequential model should only have a single input tensor, but we receive a <class 'dict'> input: {'no_of_max': <tf.Tensor 'ExpandDims:0' shape=(None, 1) dtype=int64>}\n",
      "Consider rewriting this model with the Functional API.\n",
      "evaluation [0.09044144302606583, 0.09044144302606583]\n",
      "WARNING:tensorflow:Layers in a Sequential model should only have a single input tensor, but we receive a <class 'dict'> input: {'no_of_max': <tf.Tensor 'ExpandDims:0' shape=(None, 1) dtype=int64>}\n",
      "Consider rewriting this model with the Functional API.\n"
     ]
    },
    {
     "data": {
      "image/png": "[encoded data removed]",
      "text/plain": [
       "<Figure size 576x360 with 1 Axes>"
      ]
     },
     "metadata": {
      "needs_background": "light"
     },
     "output_type": "display_data"
    }
   ],
   "source": [
    "# lambda from main maximum\n",
    "generate_results(\n",
    "    # load and split Dataset\n",
    "    df=pd.read_csv(\"../../generated_Data/all_param_4_values_with_overlap.csv\"),\n",
    "\n",
    "    # configure labels and features\n",
    "    features=[\"no_of_max\"],\n",
    "    label=\"delta\",\n",
    "\n",
    "    # setup model or load model from file\n",
    "    model_dir=\"../Models/delta_100_num_max\",\n",
    "    model_name=\"$\\Delta_{NumMax}$ val\",\n",
    "    save_name = \"delta_num_max_val\",\n",
    "    # histogram options\n",
    "    max_range=0.15,\n",
    "    num_bins=50,\n",
    "\n",
    ")"
   ]
  },
  {
   "cell_type": "code",
   "execution_count": null,
   "metadata": {},
   "outputs": [],
   "source": []
  },
  {
   "cell_type": "code",
   "execution_count": null,
   "metadata": {},
   "outputs": [],
   "source": []
  },
  {
   "cell_type": "code",
   "execution_count": null,
   "metadata": {},
   "outputs": [],
   "source": []
  },
  {
   "cell_type": "code",
   "execution_count": null,
   "metadata": {},
   "outputs": [],
   "source": []
  }
 ],
 "metadata": {
  "interpreter": {
   "hash": "3b6c3b596dca57fe0a0a29a7a829863b2f770b127c9d5e72845aa8a86bb3c7b3"
  },
  "kernelspec": {
   "display_name": "Python 3.9.12 ('en_learn')",
   "language": "python",
   "name": "python3"
  },
  "language_info": {
   "codemirror_mode": {
    "name": "ipython",
    "version": 3
   },
   "file_extension": ".py",
   "mimetype": "text/x-python",
   "name": "python",
   "nbconvert_exporter": "python",
   "pygments_lexer": "ipython3",
   "version": "3.9.12"
  },
  "orig_nbformat": 4
 },
 "nbformat": 4,
 "nbformat_minor": 2
}
