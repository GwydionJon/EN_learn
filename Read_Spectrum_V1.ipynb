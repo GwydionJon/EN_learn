{
 "cells": [
  {
   "cell_type": "code",
   "execution_count": 55,
   "metadata": {},
   "outputs": [],
   "source": [
    "import numpy as np\n",
    "import matplotlib.pyplot as plt\n",
    "import pandas as pd\n",
    "from scipy.signal import find_peaks\n",
    "import glob\n"
   ]
  },
  {
   "cell_type": "code",
   "execution_count": 67,
   "metadata": {},
   "outputs": [
    {
     "name": "stdout",
     "output_type": "stream",
     "text": [
      "310 310\n"
     ]
    }
   ],
   "source": [
    "#complete code with list\n",
    "#input files for all spectra (for testing just one file)\n",
    "#data_name_list=[\"Test1\",\"Test2\",\"Test3\"] #this would later be the file name\n",
    "#data_file_list=[\"spectrum.pl\",\"spectrum.pl\",\"spectrum.pl\"]\n",
    "data_file_list=glob.glob('./spectral_Data/spectras/*')\n",
    "#initilize empty list for ease of sorting:\n",
    "sorted_file_list = [None]*(len(data_file_list))\n",
    "print(len(sorted_file_list), len(data_file_list))\n",
    "for i in range(0,len(data_file_list)):\n",
    "    #isolate the number from the file name\n",
    "    run_number_from_file=int(data_file_list[i].split(\"spectrum\")[1].split(\".\")[0])\n",
    "    #print(i, run_number_from_file)\n",
    "    \n",
    "    #take the position in the sorted list based on the run number from the file name at position i \n",
    "    #(should be quite quick)\n",
    "    sorted_file_list[run_number_from_file]=data_file_list[i]\n",
    "    \n",
    "#print(sorted_file_list)    "
   ]
  },
  {
   "cell_type": "code",
   "execution_count": 75,
   "metadata": {},
   "outputs": [],
   "source": [
    "df_test_list=[] #list for df later\n",
    "\n",
    "for data_file in sorted_file_list:\n",
    "    #print(data_file)\n",
    "    df = pd.read_csv(data_file[2:],sep=\"   \",header =2,engine='python')\n",
    "    df=df.dropna(1) #remove all na entrys\n",
    "    df.rename(columns={'#': 'Energy',' Energy':'g1','Unnamed: 2':'g2','Unnamed: 3':'g3'}, \n",
    "              inplace=True) \n",
    "    #make new column for all maximum values\n",
    "    df['max']=df.iloc[find_peaks(df.g1.values,height=df.g1.max()*0.1)[0]   ]['g1'].dropna()\n",
    "    #append new Datafiles which have only the energy and the intensity\n",
    "    df_test_list.append(pd.DataFrame(zip(df['Energy'][df['max'].dropna().index],\n",
    "                                         df['max'].dropna()), \n",
    "                                         columns=[\"Energy\",\"Intensity\"]))\n",
    "\n",
    "#concat all these datafiles\n",
    "#for ease of use each file can be given a data name\n",
    "sorted_keys=[sorted_file.split('spectras/')[1] for sorted_file in sorted_file_list ]\n",
    "\n",
    "df_results = pd.concat(df_test_list, keys=sorted_keys)\n",
    "\n"
   ]
  },
  {
   "cell_type": "code",
   "execution_count": null,
   "metadata": {
    "scrolled": false
   },
   "outputs": [],
   "source": []
  },
  {
   "cell_type": "code",
   "execution_count": 86,
   "metadata": {},
   "outputs": [],
   "source": [
    "#load data inputs from file\n",
    "df_data_inputs = pd.read_csv(\"spectral_Data/all_729_configuration.txt\",sep=\";\",engine='python')\n"
   ]
  },
  {
   "cell_type": "code",
   "execution_count": null,
   "metadata": {},
   "outputs": [],
   "source": []
  },
  {
   "cell_type": "code",
   "execution_count": null,
   "metadata": {},
   "outputs": [],
   "source": []
  }
 ],
 "metadata": {
  "kernelspec": {
   "display_name": "Python 3",
   "language": "python",
   "name": "python3"
  },
  "language_info": {
   "codemirror_mode": {
    "name": "ipython",
    "version": 3
   },
   "file_extension": ".py",
   "mimetype": "text/x-python",
   "name": "python",
   "nbconvert_exporter": "python",
   "pygments_lexer": "ipython3",
   "version": "3.8.3"
  }
 },
 "nbformat": 4,
 "nbformat_minor": 4
}
