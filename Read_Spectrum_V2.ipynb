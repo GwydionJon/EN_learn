{
 "cells": [
  {
   "cell_type": "code",
   "execution_count": 4,
   "metadata": {},
   "outputs": [],
   "source": [
    "import numpy as np\n",
    "import matplotlib.pyplot as plt\n",
    "import pandas as pd\n",
    "from scipy.signal import find_peaks\n",
    "import glob\n"
   ]
  },
  {
   "cell_type": "code",
   "execution_count": 5,
   "metadata": {},
   "outputs": [
    {
     "name": "stdout",
     "output_type": "stream",
     "text": [
      "470 470\n"
     ]
    }
   ],
   "source": [
    "#complete code with list\n",
    "#input files for all spectra (for testing just one file)\n",
    "#data_name_list=[\"Test1\",\"Test2\",\"Test3\"] #this would later be the file name\n",
    "#data_file_list=[\"spectrum.pl\",\"spectrum.pl\",\"spectrum.pl\"]\n",
    "data_file_list=glob.glob('./spectral_Data/spectras/*')\n",
    "#initilize empty list for ease of sorting:\n",
    "sorted_file_list = [None]*(len(data_file_list))\n",
    "print(len(sorted_file_list), len(data_file_list))\n",
    "for i in range(0,len(data_file_list)):\n",
    "    #isolate the number from the file name\n",
    "    run_number_from_file=int(data_file_list[i].split(\"spectrum\")[1].split(\".\")[0])\n",
    "    #print(i, run_number_from_file)\n",
    "    \n",
    "    #take the position in the sorted list based on the run number from the file name at position i \n",
    "    #(should be quite quick)\n",
    "    sorted_file_list[run_number_from_file]=data_file_list[i]\n",
    "    \n",
    "#print(sorted_file_list)    "
   ]
  },
  {
   "cell_type": "code",
   "execution_count": 16,
   "metadata": {},
   "outputs": [
    {
     "name": "stdout",
     "output_type": "stream",
     "text": [
      "[18, 14, 21, 21, 14, 21, 21, 14, 19, 25, 32, 13, 14, 15, 14, 12, 28, 25, 20, 16, 21, 21, 13, 21, 21, 15, 19, 20, 15, 22, 23, 14, 23, 22, 15, 20, 15, 23, 17, 13, 12, 12, 17, 19, 14, 20, 15, 21, 23, 16, 23, 22, 15, 20, 20, 16, 21, 21, 16, 21, 21, 16, 20, 25, 32, 15, 14, 17, 14, 12, 38, 26, 18, 14, 21, 21, 14, 21, 21, 15, 17, 9, 12, 9, 11, 9, 11, 9, 12, 10, 65, 49, 83, 97, 46, 97, 83, 49, 64, 13, 42, 10, 10, 39, 10, 10, 42, 13, 10, 33, 9, 9, 19, 9, 9, 33, 10, 25, 43, 98, 80, 51, 80, 98, 43, 21, 10, 33, 9, 9, 19, 9, 9, 33, 10, 13, 42, 10, 10, 41, 10, 10, 42, 13, 65, 49, 83, 97, 46, 97, 83, 49, 64, 9, 12, 9, 11, 9, 11, 9, 12, 10, 21, 14, 22, 21, 16, 21, 20, 14, 21, 14, 42, 12, 12, 18, 12, 12, 42, 14, 20, 13, 21, 23, 13, 23, 21, 13, 20, 21, 14, 23, 21, 14, 21, 23, 14, 21, 12, 31, 12, 12, 46, 12, 12, 30, 12, 21, 14, 23, 21, 14, 21, 23, 14, 22, 20, 13, 21, 23, 13, 23, 21, 13, 20, 14, 42, 12, 12, 16, 12, 12, 42, 14, 21, 14, 21, 21, 16, 21, 21, 14, 21, 21, 13, 18, 19, 18, 19, 20, 13, 21, 13, 36, 13, 12, 19, 12, 13, 34, 15, 20, 13, 21, 23, 12, 23, 21, 13, 21, 19, 14, 22, 22, 13, 22, 22, 14, 18, 14, 22, 13, 11, 20, 11, 14, 22, 14, 18, 14, 22, 22, 13, 22, 22, 14, 18, 20, 13, 21, 23, 12, 23, 21, 13, 19, 14, 35, 13, 12, 19, 12, 13, 35, 12, 21, 13, 19, 19, 17, 19, 19, 13, 21, 13, 20, 17, 16, 30, 16, 21, 19, 13, 15, 52, 67, 77, 22, 77, 55, 52, 18, 12, 32, 9, 11, 29, 11, 9, 34, 12, 13, 24, 11, 11, 26, 11, 11, 24, 9, 19, 50, 52, 52, 32, 52, 52, 50, 21, 11, 24, 11, 11, 23, 11, 11, 24, 11, 11, 31, 9, 11, 20, 11, 9, 33, 12, 13, 52, 55, 77, 22, 77, 65, 52, 17, 14, 20, 21, 18, 23, 15, 18, 19, 13, 21, 13, 19, 19, 17, 19, 19, 13, 21, 14, 34, 13, 12, 19, 12, 13, 35, 14, 21, 13, 21, 23, 12, 23, 21, 13, 20, 18, 14, 22, 22, 16, 22, 22, 14, 19, 14, 21, 13, 11, 20, 11, 13, 20, 14, 18, 14, 22, 22, 16, 22, 22, 14, 19, 22, 13, 21, 23, 12, 23, 21, 13, 21, 14, 37]\n",
      "9\n"
     ]
    }
   ],
   "source": [
    "df_test_list=[] #list for df later\n",
    "test_list_num_peaks=[]\n",
    "for data_file in sorted_file_list:\n",
    "    #print(data_file)\n",
    "    df = pd.read_csv(data_file[2:],sep=\"   \",header =2,engine='python')\n",
    "    df=df.dropna(1) #remove all na entrys\n",
    "    df.rename(columns={'#': 'Energy',' Energy':'g1','Unnamed: 2':'g2','Unnamed: 3':'g3'}, \n",
    "              inplace=True) \n",
    "    #make new column for all maximum values\n",
    "    #get all peaks\n",
    "    test_list_num_peaks.append(min([len((find_peaks(df.g1.values)[0]))]))\n",
    "    df['max']=df.iloc[find_peaks(df.g1.values,height=df.g1.max()*0.2)[0]   ]['g1'].dropna()\n",
    "    #append new Datafiles which have only the energy and the intensity\n",
    "    df_test_list.append(pd.DataFrame(zip(df['Energy'][df['max'].dropna().index],\n",
    "                                         df['max'].dropna()), \n",
    "                                         columns=[\"Energy\",\"Intensity\"]))\n",
    "\n",
    "#concat all these datafiles\n",
    "#for ease of use each file can be given a data name\n",
    "#sorted_keys=[sorted_file.split('spectras/')[1].split(\".\")[0] for sorted_file in sorted_file_list ]\n",
    "\n",
    "#df_results = pd.concat(df_test_list, keys=sorted_keys)\n",
    "print(test_list_num_peaks)\n",
    "print(min(test_list_num_peaks))"
   ]
  },
  {
   "cell_type": "code",
   "execution_count": null,
   "metadata": {
    "scrolled": false
   },
   "outputs": [],
   "source": [
    "df_results.head()"
   ]
  },
  {
   "cell_type": "code",
   "execution_count": null,
   "metadata": {},
   "outputs": [],
   "source": [
    "#load data inputs from file\n",
    "df_data_inputs = pd.read_csv(\"spectral_Data/all_729_configuration.txt\",sep=\";\",engine='python')\n"
   ]
  },
  {
   "cell_type": "code",
   "execution_count": null,
   "metadata": {},
   "outputs": [],
   "source": [
    "#save to csv data for easier accsess\n",
    "df_results.to_csv(\"spectrum_energy_intensity2.csv\",index=True)\n",
    "df_data_inputs.to_csv(\"input_data_table2.csv\",index=True)"
   ]
  },
  {
   "cell_type": "code",
   "execution_count": null,
   "metadata": {},
   "outputs": [],
   "source": []
  },
  {
   "cell_type": "code",
   "execution_count": null,
   "metadata": {},
   "outputs": [],
   "source": []
  }
 ],
 "metadata": {
  "kernelspec": {
   "display_name": "Python 3",
   "language": "python",
   "name": "python3"
  }
 },
 "nbformat": 4,
 "nbformat_minor": 4
}
