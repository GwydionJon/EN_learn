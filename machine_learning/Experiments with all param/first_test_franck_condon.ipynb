{
 "metadata": {
  "language_info": {
   "codemirror_mode": {
    "name": "ipython",
    "version": 3
   },
   "file_extension": ".py",
   "mimetype": "text/x-python",
   "name": "python",
   "nbconvert_exporter": "python",
   "pygments_lexer": "ipython3",
   "version": "3.7.7-final"
  },
  "orig_nbformat": 2,
  "kernelspec": {
   "name": "Python 3.7.7 64-bit ('base': conda)",
   "display_name": "Python 3.7.7 64-bit ('base': conda)",
   "metadata": {
    "interpreter": {
     "hash": "34eb7b2f8e0cca405e4692d7f9af37d2dd03b49614a9a4b146162c073a038e8f"
    }
   }
  }
 },
 "nbformat": 4,
 "nbformat_minor": 2,
 "cells": [
  {
   "cell_type": "code",
   "execution_count": 67,
   "metadata": {},
   "outputs": [],
   "source": [
    "import pandas as pd\n",
    "import numpy as np\n",
    "import tensorflow as tf\n",
    "import matplotlib.pyplot as plt\n",
    "import kerastuner as kt\n",
    "from sklearn.model_selection import train_test_split\n",
    "from scipy.constants import eV, c, h, hbar, m_e\n",
    "from scipy.constants import physical_constants\n",
    "\n",
    "amu = physical_constants['atomic mass constant'][0]\n",
    "bohr = physical_constants['Bohr radius'][0]\n"
   ]
  },
  {
   "cell_type": "code",
   "execution_count": 45,
   "metadata": {},
   "outputs": [
    {
     "output_type": "execute_result",
     "data": {
      "text/plain": [
       "       k6a1      k6a2       k11       k12      k9a1      k9a2     delta  \\\n",
       "0 -0.003675 -0.003675 -0.003675 -0.003675 -0.003675 -0.003675  0.022050   \n",
       "1 -0.003675 -0.003675 -0.003675 -0.003675 -0.003675 -0.001224  0.022050   \n",
       "2 -0.003675 -0.003675 -0.003675 -0.003675 -0.003675 -0.003675  0.022050   \n",
       "3 -0.003675 -0.003675 -0.003675 -0.003675 -0.003675 -0.003675  0.019598   \n",
       "4 -0.003675 -0.003675 -0.003675 -0.003675 -0.003675 -0.003675  0.019598   \n",
       "\n",
       "     lambda  \n",
       "0  0.003675  \n",
       "1  0.008574  \n",
       "2  0.008574  \n",
       "3  0.008574  \n",
       "4  0.003675  "
      ],
      "text/html": "<div>\n<style scoped>\n    .dataframe tbody tr th:only-of-type {\n        vertical-align: middle;\n    }\n\n    .dataframe tbody tr th {\n        vertical-align: top;\n    }\n\n    .dataframe thead th {\n        text-align: right;\n    }\n</style>\n<table border=\"1\" class=\"dataframe\">\n  <thead>\n    <tr style=\"text-align: right;\">\n      <th></th>\n      <th>k6a1</th>\n      <th>k6a2</th>\n      <th>k11</th>\n      <th>k12</th>\n      <th>k9a1</th>\n      <th>k9a2</th>\n      <th>delta</th>\n      <th>lambda</th>\n    </tr>\n  </thead>\n  <tbody>\n    <tr>\n      <th>0</th>\n      <td>-0.003675</td>\n      <td>-0.003675</td>\n      <td>-0.003675</td>\n      <td>-0.003675</td>\n      <td>-0.003675</td>\n      <td>-0.003675</td>\n      <td>0.022050</td>\n      <td>0.003675</td>\n    </tr>\n    <tr>\n      <th>1</th>\n      <td>-0.003675</td>\n      <td>-0.003675</td>\n      <td>-0.003675</td>\n      <td>-0.003675</td>\n      <td>-0.003675</td>\n      <td>-0.001224</td>\n      <td>0.022050</td>\n      <td>0.008574</td>\n    </tr>\n    <tr>\n      <th>2</th>\n      <td>-0.003675</td>\n      <td>-0.003675</td>\n      <td>-0.003675</td>\n      <td>-0.003675</td>\n      <td>-0.003675</td>\n      <td>-0.003675</td>\n      <td>0.022050</td>\n      <td>0.008574</td>\n    </tr>\n    <tr>\n      <th>3</th>\n      <td>-0.003675</td>\n      <td>-0.003675</td>\n      <td>-0.003675</td>\n      <td>-0.003675</td>\n      <td>-0.003675</td>\n      <td>-0.003675</td>\n      <td>0.019598</td>\n      <td>0.008574</td>\n    </tr>\n    <tr>\n      <th>4</th>\n      <td>-0.003675</td>\n      <td>-0.003675</td>\n      <td>-0.003675</td>\n      <td>-0.003675</td>\n      <td>-0.003675</td>\n      <td>-0.003675</td>\n      <td>0.019598</td>\n      <td>0.003675</td>\n    </tr>\n  </tbody>\n</table>\n</div>"
     },
     "metadata": {},
     "execution_count": 45
    }
   ],
   "source": [
    "all_data=pd.read_csv(\"G:\\OneDrive - bwedu\\Master\\Forschungspraktikum\\Inga\\pc-forschi\\generated_Data/all_param_4_values_complete.csv\")\n",
    "all_label_list=[\"k6a1\",\"k6a2\",\"k11\",\"k12\",\"k9a1\",\"k9a2\",\"delta\",\"lambda\"]\n",
    "\n",
    "#first 50 are just for testing\n",
    "df_labels=all_data[all_label_list].head(50)/27.211396\n",
    "\n",
    "df_labels.head()\n"
   ]
  },
  {
   "cell_type": "code",
   "execution_count": 81,
   "metadata": {},
   "outputs": [],
   "source": [
    "#Omegas\n",
    "#w10a = 0.09357, ev\n",
    "\n",
    "ev_to_au=1/27.211396\n",
    "w6a = 0.0740* ev_to_au\n",
    "w1 = 0.1273* ev_to_au\n",
    "w9a = 0.1568 * ev_to_au\n",
    "\n",
    "\n",
    "#vibrational potentials\n",
    "def potential_s0(q,omega):\n",
    "    pot=omega**2/2 * q**2\n",
    "    #print(\"Vs0\",pot)\n",
    "    return pot\n",
    "\n",
    "def potential_s1(q,omega, df_k_s1):\n",
    "    pot=np.asarray([omega**2/2 * q**2 +k_s1*q for k_s1 in df_k_s1])\n",
    "   # print(\"Vs1\",pot)\n",
    "    return pot\n",
    "\n",
    "def potential_s2(q,omega,df_k_s2):\n",
    "    pot=np.asarray([omega**2/2 * q**2 +k_s2*q for k_s2 in df_k_s2])\n",
    "   # print(\"Vs2\",pot)\n",
    "    return pot\n",
    "\n",
    "def get_mu(m1,m2):\n",
    "    mu = m1*m2/(m1+m2)\n",
    "    return mu\n",
    "\n",
    "def get_k(mu,omega):\n",
    "    k = mu*(2*np.pi*omega)**2\n",
    "    return k\n",
    "\n"
   ]
  },
  {
   "cell_type": "code",
   "execution_count": 82,
   "metadata": {
    "tags": []
   },
   "outputs": [],
   "source": [
    "x_grid=np.linspace(0,5,100)\n",
    "R0 = 2.9\n",
    "\n",
    "\n",
    "vs0_w6a= potential_s0(x_grid,w6a)\n",
    "vs1_w6a= potential_s1(x_grid,w6a,df_labels[\"k6a1\"])\n",
    "vs2_w6a= potential_s1(x_grid,w6a,df_labels[\"k6a2\"])\n",
    "\n"
   ]
  },
  {
   "source": [
    "#setup some test things\n",
    "mu=get_mu(1,12)*amu/m_e\n",
    "print(mu)\n",
    "k_w6a = get_k(mu,w6a) #should be in atomic units as well\n",
    "print(k_w6a)\n",
    "\n",
    "\n",
    "\n",
    "\n"
   ],
   "cell_type": "code",
   "metadata": {},
   "execution_count": 83,
   "outputs": [
    {
     "output_type": "stream",
     "name": "stdout",
     "text": [
      "1682.6662949698275\n",
      "0.491269188316689\n"
     ]
    }
   ]
  },
  {
   "cell_type": "code",
   "execution_count": null,
   "metadata": {},
   "outputs": [],
   "source": []
  }
 ]
}