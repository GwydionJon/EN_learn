{
 "cells": [
  {
   "cell_type": "code",
   "execution_count": 3,
   "metadata": {},
   "outputs": [],
   "source": [
    "import pandas as pd\n",
    "import tensorflow as tf\n",
    "from matplotlib import pyplot as plt\n",
    "import numpy as np"
   ]
  },
  {
   "cell_type": "code",
   "execution_count": 182,
   "metadata": {},
   "outputs": [
    {
     "data": {
      "text/html": [
       "<div>\n",
       "<style scoped>\n",
       "    .dataframe tbody tr th:only-of-type {\n",
       "        vertical-align: middle;\n",
       "    }\n",
       "\n",
       "    .dataframe tbody tr th {\n",
       "        vertical-align: top;\n",
       "    }\n",
       "\n",
       "    .dataframe thead th {\n",
       "        text-align: right;\n",
       "    }\n",
       "</style>\n",
       "<table border=\"1\" class=\"dataframe\">\n",
       "  <thead>\n",
       "    <tr style=\"text-align: right;\">\n",
       "      <th></th>\n",
       "      <th>k6a1</th>\n",
       "      <th>k6a2</th>\n",
       "      <th>k11</th>\n",
       "      <th>k12</th>\n",
       "      <th>k9a1</th>\n",
       "      <th>k9a2</th>\n",
       "    </tr>\n",
       "  </thead>\n",
       "  <tbody>\n",
       "    <tr>\n",
       "      <th>0</th>\n",
       "      <td>-0.5</td>\n",
       "      <td>-0.5</td>\n",
       "      <td>-0.5</td>\n",
       "      <td>-0.5</td>\n",
       "      <td>-0.5</td>\n",
       "      <td>-0.5</td>\n",
       "    </tr>\n",
       "    <tr>\n",
       "      <th>1</th>\n",
       "      <td>-0.5</td>\n",
       "      <td>-0.5</td>\n",
       "      <td>-0.5</td>\n",
       "      <td>-0.5</td>\n",
       "      <td>-0.5</td>\n",
       "      <td>0.0</td>\n",
       "    </tr>\n",
       "    <tr>\n",
       "      <th>2</th>\n",
       "      <td>-0.5</td>\n",
       "      <td>-0.5</td>\n",
       "      <td>-0.5</td>\n",
       "      <td>-0.5</td>\n",
       "      <td>-0.5</td>\n",
       "      <td>0.5</td>\n",
       "    </tr>\n",
       "    <tr>\n",
       "      <th>3</th>\n",
       "      <td>-0.5</td>\n",
       "      <td>-0.5</td>\n",
       "      <td>-0.5</td>\n",
       "      <td>-0.5</td>\n",
       "      <td>0.0</td>\n",
       "      <td>-0.5</td>\n",
       "    </tr>\n",
       "    <tr>\n",
       "      <th>4</th>\n",
       "      <td>-0.5</td>\n",
       "      <td>-0.5</td>\n",
       "      <td>-0.5</td>\n",
       "      <td>-0.5</td>\n",
       "      <td>0.0</td>\n",
       "      <td>0.0</td>\n",
       "    </tr>\n",
       "  </tbody>\n",
       "</table>\n",
       "</div>"
      ],
      "text/plain": [
       "   k6a1  k6a2  k11  k12  k9a1  k9a2\n",
       "0  -0.5  -0.5 -0.5 -0.5  -0.5  -0.5\n",
       "1  -0.5  -0.5 -0.5 -0.5  -0.5   0.0\n",
       "2  -0.5  -0.5 -0.5 -0.5  -0.5   0.5\n",
       "3  -0.5  -0.5 -0.5 -0.5   0.0  -0.5\n",
       "4  -0.5  -0.5 -0.5 -0.5   0.0   0.0"
      ]
     },
     "execution_count": 182,
     "metadata": {},
     "output_type": "execute_result"
    }
   ],
   "source": [
    "df_spectra=pd.read_csv(\"spectrum_energy_intensity.csv\",index_col=[0,1])\n",
    "df_input=pd.read_csv(\"input_data_table.csv\",index_col=0)\n",
    "df_input.head()\n"
   ]
  },
  {
   "cell_type": "code",
   "execution_count": 209,
   "metadata": {},
   "outputs": [
    {
     "name": "stdout",
     "output_type": "stream",
     "text": [
      "470\n",
      "[-0.758 -0.69  -0.612 -0.472 -0.406 -0.328 -0.152 -0.068 -0.014  0.134\n",
      "  0.222  0.294  0.472  0.524  0.602  0.748  0.824  0.882]\n",
      "[-0.5 -0.5 -0.5 -0.5 -0.5 -0.5]\n"
     ]
    }
   ],
   "source": [
    "test3=df_spectra.groupby(level=1).size()[0] #this gives the number of spectra in the dataset\n",
    "print(test3)\n",
    "\n",
    "#this works to get a matrix for each spectrum \n",
    "test2=df_spectra[df_spectra.index.isin([\"spectrum0\"],level=0)][\"Energy\"].to_numpy()\n",
    "print(test2)\n",
    "\n",
    "test4=df_input[df_input.index.isin([0],level=0)].to_numpy()[0]\n",
    "print(test4)"
   ]
  },
  {
   "cell_type": "code",
   "execution_count": 210,
   "metadata": {},
   "outputs": [],
   "source": [
    "list_spectra_Energy_array=[]\n",
    "list_spectra_Intensity_array=[]\n",
    "list_input=[]\n",
    "#list_k6a1=df_input[\"k6a1\"].to_numpy()\n",
    "#list_k6a2=df_input[\"k6a2\"].to_numpy()\n",
    "#list_k11=df_input[\"k11\"].to_numpy()\n",
    "#list_k12=df_input[\"k12\"].to_numpy()\n",
    "#list_k9a1=df_input[\"k9a1\"].to_numpy()\n",
    "#list_k9a2=df_input[\"k9a2\"].to_numpy()\n",
    "for i in range(df_spectra.groupby(level=1).size()[0]):\n",
    "    list_spectra_Energy_array.append(df_spectra[df_spectra.index.isin([\"spectrum\"\n",
    "                                                                       +str(i)],level=0)][\"Energy\"].to_numpy())\n",
    "    list_spectra_Intensity_array.append(df_spectra[df_spectra.index.isin([\"spectrum\"\n",
    "                                                                          +str(i)],level=0)][\"Intensity\"].to_numpy())\n",
    "    list_input.append(df_input[df_input.index.isin([i],level=0)].to_numpy()[0])\n",
    "    "
   ]
  },
  {
   "cell_type": "code",
   "execution_count": 211,
   "metadata": {
    "scrolled": true
   },
   "outputs": [],
   "source": [
    "df_training=pd.DataFrame({'input':list_input,'Intensity':list_spectra_Intensity_array,'Energy':list_spectra_Energy_array})"
   ]
  },
  {
   "cell_type": "code",
   "execution_count": 212,
   "metadata": {},
   "outputs": [
    {
     "data": {
      "text/html": [
       "<div>\n",
       "<style scoped>\n",
       "    .dataframe tbody tr th:only-of-type {\n",
       "        vertical-align: middle;\n",
       "    }\n",
       "\n",
       "    .dataframe tbody tr th {\n",
       "        vertical-align: top;\n",
       "    }\n",
       "\n",
       "    .dataframe thead th {\n",
       "        text-align: right;\n",
       "    }\n",
       "</style>\n",
       "<table border=\"1\" class=\"dataframe\">\n",
       "  <thead>\n",
       "    <tr style=\"text-align: right;\">\n",
       "      <th></th>\n",
       "      <th>input</th>\n",
       "      <th>Intensity</th>\n",
       "      <th>Energy</th>\n",
       "    </tr>\n",
       "  </thead>\n",
       "  <tbody>\n",
       "    <tr>\n",
       "      <th>0</th>\n",
       "      <td>[-0.5, -0.5, -0.5, -0.5, -0.5, -0.5]</td>\n",
       "      <td>[5.20690186, 6.88780025, 3.5507148, 6.73106847...</td>\n",
       "      <td>[-0.758, -0.69, -0.612, -0.47200000000000003, ...</td>\n",
       "    </tr>\n",
       "    <tr>\n",
       "      <th>1</th>\n",
       "      <td>[-0.5, -0.5, -0.5, -0.5, -0.5, 0.0]</td>\n",
       "      <td>[3.74488966, 23.8435403, 2.65115834, 11.044500...</td>\n",
       "      <td>[-0.6920000000000001, -0.574, -0.278, -0.048, ...</td>\n",
       "    </tr>\n",
       "    <tr>\n",
       "      <th>2</th>\n",
       "      <td>[-0.5, -0.5, -0.5, -0.5, -0.5, 0.5]</td>\n",
       "      <td>[1.93005472, 1.26134031, 5.11297673, 7.1436760...</td>\n",
       "      <td>[-0.9279999999999999, -0.8740000000000001, -0....</td>\n",
       "    </tr>\n",
       "    <tr>\n",
       "      <th>3</th>\n",
       "      <td>[-0.5, -0.5, -0.5, -0.5, 0.0, -0.5]</td>\n",
       "      <td>[1.91987695, 1.29420517, 5.05196242, 7.1955590...</td>\n",
       "      <td>[-0.9259999999999999, -0.878, -0.778, -0.71200...</td>\n",
       "    </tr>\n",
       "    <tr>\n",
       "      <th>4</th>\n",
       "      <td>[-0.5, -0.5, -0.5, -0.5, 0.0, 0.0]</td>\n",
       "      <td>[3.03383711, 23.8370405, 3.08890517, 10.074627...</td>\n",
       "      <td>[-0.672, -0.56, -0.262, -0.03, 0.046, 0.614, 0...</td>\n",
       "    </tr>\n",
       "  </tbody>\n",
       "</table>\n",
       "</div>"
      ],
      "text/plain": [
       "                                  input  \\\n",
       "0  [-0.5, -0.5, -0.5, -0.5, -0.5, -0.5]   \n",
       "1   [-0.5, -0.5, -0.5, -0.5, -0.5, 0.0]   \n",
       "2   [-0.5, -0.5, -0.5, -0.5, -0.5, 0.5]   \n",
       "3   [-0.5, -0.5, -0.5, -0.5, 0.0, -0.5]   \n",
       "4    [-0.5, -0.5, -0.5, -0.5, 0.0, 0.0]   \n",
       "\n",
       "                                           Intensity  \\\n",
       "0  [5.20690186, 6.88780025, 3.5507148, 6.73106847...   \n",
       "1  [3.74488966, 23.8435403, 2.65115834, 11.044500...   \n",
       "2  [1.93005472, 1.26134031, 5.11297673, 7.1436760...   \n",
       "3  [1.91987695, 1.29420517, 5.05196242, 7.1955590...   \n",
       "4  [3.03383711, 23.8370405, 3.08890517, 10.074627...   \n",
       "\n",
       "                                              Energy  \n",
       "0  [-0.758, -0.69, -0.612, -0.47200000000000003, ...  \n",
       "1  [-0.6920000000000001, -0.574, -0.278, -0.048, ...  \n",
       "2  [-0.9279999999999999, -0.8740000000000001, -0....  \n",
       "3  [-0.9259999999999999, -0.878, -0.778, -0.71200...  \n",
       "4  [-0.672, -0.56, -0.262, -0.03, 0.046, 0.614, 0...  "
      ]
     },
     "execution_count": 212,
     "metadata": {},
     "output_type": "execute_result"
    }
   ],
   "source": [
    "df_training.head()"
   ]
  },
  {
   "cell_type": "code",
   "execution_count": 47,
   "metadata": {},
   "outputs": [],
   "source": [
    "def create_model(my_learning_rate, my_feature_layer,unit_layer_1=10,unit_layer_2=12,regulations=0.04):\n",
    "    \"\"\"Create and compile a regression model.\"\"\"\n",
    "    model = tf.keras.models.Sequential()\n",
    "    # Add the layer containing the feature columns to the model.\n",
    "    model.add(my_feature_layer)\n",
    "\n",
    "    # Describe the topography of the model by calling the tf.keras.layers.Dense\n",
    "    # method once for each layer. We've specified the following arguments:\n",
    "    #   * units specifies the number of nodes in this layer.\n",
    "    #   * activation specifies the activation function (Rectified Linear Unit).\n",
    "    #   * name is just a string that can be useful when debugging.\n",
    "\n",
    "    # Define the first hidden layer with 10 nodes.   \n",
    "    model.add(tf.keras.layers.Dense(units=unit_layer_1, \n",
    "                                  activation='relu', \n",
    "                                  kernel_regularizer=tf.keras.regularizers.l2(regulations),\n",
    "                                  name='Hidden1'))\n",
    "  \n",
    "    # Define the second hidden layer with 12 nodes. \n",
    "    model.add(tf.keras.layers.Dense(units=unit_layer_2, \n",
    "                                  activation='relu', \n",
    "                                  kernel_regularizer=tf.keras.regularizers.l2(regulations),\n",
    "                                  name='Hidden2'))\n",
    "\n",
    "    # Define the output layer.\n",
    "    model.add(tf.keras.layers.Dense(units=1,  \n",
    "                                    name='Output'))                              \n",
    "  \n",
    "    model.compile(optimizer=tf.keras.optimizers.Adam(lr=my_learning_rate),\n",
    "                loss=\"mean_squared_error\",\n",
    "                metrics=[tf.keras.metrics.MeanSquaredError()])\n",
    "\n",
    "    return model\n",
    "\n"
   ]
  },
  {
   "cell_type": "code",
   "execution_count": 48,
   "metadata": {},
   "outputs": [],
   "source": [
    "def train_model(model, dataset, epochs, label_name,\n",
    "                batch_size=None):\n",
    "    \"\"\"Train the model by feeding it data.\"\"\"\n",
    "\n",
    "    # Split the dataset into features and label.\n",
    "    features = {name:np.array(value) for name, value in dataset.items()}\n",
    "    label = np.array(features.pop(label_name))\n",
    "    history = model.fit(x=features, y=label, batch_size=batch_size,\n",
    "                      epochs=epochs, shuffle=True) \n",
    "\n",
    "    # The list of epochs is stored separately from the rest of history.\n",
    "    epochs = history.epoch\n",
    "  \n",
    "    # To track the progression of training, gather a snapshot\n",
    "    # of the model's mean squared error at each epoch. \n",
    "    hist = pd.DataFrame(history.history)\n",
    "    mse = hist[\"mean_squared_error\"]\n",
    "\n",
    "    return epochs, mse"
   ]
  },
  {
   "cell_type": "code",
   "execution_count": null,
   "metadata": {},
   "outputs": [],
   "source": []
  }
 ],
 "metadata": {
  "kernelspec": {
   "display_name": "Python 3",
   "language": "python",
   "name": "python3"
  },
  "language_info": {
   "codemirror_mode": {
    "name": "ipython",
    "version": 3
   },
   "file_extension": ".py",
   "mimetype": "text/x-python",
   "name": "python",
   "nbconvert_exporter": "python",
   "pygments_lexer": "ipython3",
   "version": "3.7.7"
  }
 },
 "nbformat": 4,
 "nbformat_minor": 4
}
